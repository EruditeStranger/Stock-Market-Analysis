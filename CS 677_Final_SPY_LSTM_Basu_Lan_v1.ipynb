{
 "cells": [
  {
   "cell_type": "code",
   "execution_count": 4,
   "metadata": {},
   "outputs": [],
   "source": [
    "# Importing the libraries\n",
    "import numpy as np\n",
    "import matplotlib.pyplot as plt\n",
    "import pandas as pd\n",
    "import datetime"
   ]
  },
  {
   "cell_type": "code",
   "execution_count": 5,
   "metadata": {},
   "outputs": [],
   "source": [
    "dataset = pd.read_csv('SPY_data_to57.csv',index_col=\"date\",parse_dates=True)\n",
    "dataset = dataset.dropna(axis=0, how='all')  #get rid of rows with NaN"
   ]
  },
  {
   "cell_type": "code",
   "execution_count": 6,
   "metadata": {},
   "outputs": [],
   "source": [
    "# dataset.head()\n",
    "# dataset.isna().any()\n",
    "# dataset.info()\n",
    "# type(dataset[\"4. close\"])"
   ]
  },
  {
   "cell_type": "code",
   "execution_count": 7,
   "metadata": {},
   "outputs": [],
   "source": [
    "# dataset['1. open'].plot(figsize=(16,6))"
   ]
  },
  {
   "cell_type": "code",
   "execution_count": 8,
   "metadata": {},
   "outputs": [],
   "source": [
    "# 7 day rolling mean\n",
    "#dataset.rolling(7).mean().head(20)"
   ]
  },
  {
   "cell_type": "code",
   "execution_count": 9,
   "metadata": {},
   "outputs": [],
   "source": [
    "# dataset['1. open'].plot(figsize=(16,6))\n",
    "# dataset.rolling(window=30).mean()['4. close'].plot()"
   ]
  },
  {
   "cell_type": "code",
   "execution_count": 10,
   "metadata": {},
   "outputs": [],
   "source": [
    "# dataset['Close: 30 Day Mean'] = dataset['4. close'].rolling(window=30).mean()\n",
    "# dataset[['4. close','Close: 30 Day Mean']].plot(figsize=(16,6))"
   ]
  },
  {
   "cell_type": "code",
   "execution_count": 11,
   "metadata": {},
   "outputs": [],
   "source": [
    "# Optional specify a minimum number of periods\n",
    "# dataset['4. close'].expanding(min_periods=1).mean().plot(figsize=(16,6))"
   ]
  },
  {
   "cell_type": "code",
   "execution_count": 12,
   "metadata": {},
   "outputs": [],
   "source": [
    "from sklearn.preprocessing import MinMaxScaler\n",
    "sc = MinMaxScaler(feature_range = (0, 1))"
   ]
  },
  {
   "cell_type": "code",
   "execution_count": 13,
   "metadata": {},
   "outputs": [],
   "source": [
    "def get_train_sets(col_name, sws):\n",
    "    training_set=dataset[col_name]\n",
    "    #training_set=dataset\n",
    "    training_set=pd.DataFrame(training_set)\n",
    "    #print(training_set.head())\n",
    "    # Feature Scaling\n",
    "    training_set_scaled = sc.fit_transform(training_set)\n",
    "    #print(len(training_set_scaled))\n",
    "    #Empty Lists. Populated below with the array elements of the scaled training set#Convert \n",
    "    X_train = []\n",
    "    y_train = []\n",
    "    for i in range(4000, 5348):\n",
    "        X_train.append(training_set_scaled[i-sws:i, 0])\n",
    "        y_train.append(training_set_scaled[i, 0])\n",
    "    X_train, y_train = np.array(X_train), np.array(y_train)\n",
    "    #X_train.shape\n",
    "    #y_train.shape\n",
    "    X_train = np.reshape(X_train, (X_train.shape[0], X_train.shape[1], 1))\n",
    "    #X_train.shape\n",
    "    return X_train, y_train"
   ]
  },
  {
   "cell_type": "code",
   "execution_count": 14,
   "metadata": {},
   "outputs": [],
   "source": [
    "# Importing the Keras libraries and packages\n",
    "from keras.models import Sequential, load_model\n",
    "from keras.layers import Dense, LSTM"
   ]
  },
  {
   "cell_type": "code",
   "execution_count": 12,
   "metadata": {},
   "outputs": [],
   "source": [
    "import pickle\n",
    "\n",
    "def train_model(name, X_train, y_train):\n",
    "    regressor = Sequential()\n",
    "    regressor.add(LSTM(units = 50, return_sequences = True, input_shape = (X_train.shape[1], 1)))\n",
    "    regressor.add(LSTM(units = 50, return_sequences = True))\n",
    "    regressor.add(LSTM(units = 50, return_sequences = True))\n",
    "    regressor.add(LSTM(units = 50))\n",
    "    regressor.add(Dense(units = 1))\n",
    "    regressor.compile(optimizer = 'adam', loss = 'mean_squared_error', metrics=['accuracy'])\n",
    "\n",
    "    #history = regressor.fit(X_train, y_train, epochs = 100, batch_size = 32, validation_split = 0.2)\n",
    "    history = regressor.fit(X_train, y_train, epochs = 100, batch_size = 32)\n",
    "    regressor.save(name+'.h5')\n",
    "    with open(name, 'wb') as f:\n",
    "        pickle.dump(history, f)\n",
    "    return regressor, history"
   ]
  },
  {
   "cell_type": "code",
   "execution_count": 13,
   "metadata": {},
   "outputs": [],
   "source": [
    "import matplotlib.pyplot as plt\n",
    "\n",
    "def plot_results(history):\n",
    "    plt.plot(history.history['acc'], '-b', label = 'acc')\n",
    "    plt.plot(history.history['val_acc'], '-r', label = 'val_acc')\n",
    "    plt.legend(loc='upper left')\n",
    "    plt.title('Model Accuracy')\n",
    "    plt.ylabel('Acc')\n",
    "    plt.xlabel('Epoch')\n",
    "    plt.show()\n",
    "\n",
    "    plt.clf()\n",
    "\n",
    "    plt.plot(history.history['loss'], '-b', label = 'loss')\n",
    "    plt.plot(history.history['val_loss'], '-r', label = 'val_loss')\n",
    "    plt.legend(loc='upper left')\n",
    "    plt.title('Model Loss')\n",
    "    plt.ylabel('Loss')\n",
    "    plt.xlabel('Epoch')\n",
    "    plt.show()"
   ]
  },
  {
   "cell_type": "code",
   "execution_count": 14,
   "metadata": {},
   "outputs": [],
   "source": [
    "# Making the predictions and visualising the results\n",
    "from sklearn.metrics import mean_squared_error\n",
    "import math"
   ]
  },
  {
   "cell_type": "code",
   "execution_count": 15,
   "metadata": {},
   "outputs": [],
   "source": [
    "def get_X_test_all(col_name, dataset, sws):\n",
    "    training_set=dataset[col_name]\n",
    "    training_set=pd.DataFrame(training_set)\n",
    "    training_set_scaled = sc.fit_transform(training_set)\n",
    "    X_test_all = []\n",
    "    y_test_all = []\n",
    "    for i in range(sws, 5356):\n",
    "        X_test_all.append(training_set_scaled[i-sws:i, 0])\n",
    "        y_test_all.append(dataset[col_name][i])\n",
    "    X_test_all = np.array(X_test_all)\n",
    "    X_test_all = np.reshape(X_test_all, (X_test_all.shape[0], X_test_all.shape[1], 1))\n",
    "    return X_test_all, y_test_all"
   ]
  },
  {
   "cell_type": "code",
   "execution_count": 16,
   "metadata": {},
   "outputs": [],
   "source": [
    "def plot_preds_all(regressor, X_test, y_test, y_type):\n",
    "    predicted_stock_price = regressor.predict(X_test)\n",
    "    predicted_stock_price = sc.inverse_transform(predicted_stock_price)\n",
    "    predicted_stock_price=pd.DataFrame(predicted_stock_price)\n",
    "\n",
    "    plt.plot(y_test, color = 'red', label = 'Real SPY')\n",
    "    plt.plot(predicted_stock_price, color = 'blue', label = 'Predicted SPY')\n",
    "    plt.title(y_type + ' All Stock Price Prediction')\n",
    "    plt.xlabel('Time')\n",
    "    plt.ylabel('Stock Price')\n",
    "    plt.legend()\n",
    "    plt.show()\n",
    "    testScore = math.sqrt(mean_squared_error(y_test, predicted_stock_price))\n",
    "    print(y_type + ' All Stocks Test Score: %.2f RMSE' % (testScore))"
   ]
  },
  {
   "cell_type": "code",
   "execution_count": 17,
   "metadata": {},
   "outputs": [],
   "source": [
    "def get_X_test_48(col_name, dataset, sws):\n",
    "    training_set=dataset[col_name]\n",
    "    training_set=pd.DataFrame(training_set)\n",
    "    training_set_scaled = sc.fit_transform(training_set)\n",
    "    X_test_48 = []\n",
    "    y_test_48 = []\n",
    "    for i in range(5349, 5356):\n",
    "        X_test_48.append(training_set_scaled[i-sws:i, 0])\n",
    "        y_test_48.append(dataset[col_name][i])\n",
    "    X_test_48 = np.array(X_test_48)\n",
    "    X_test_48 = np.reshape(X_test_48, (X_test_48.shape[0], X_test_48.shape[1], 1))\n",
    "    return X_test_48, y_test_48"
   ]
  },
  {
   "cell_type": "code",
   "execution_count": 18,
   "metadata": {},
   "outputs": [],
   "source": [
    "def plot_preds_48(regressor, X_test, y_test, y_type):\n",
    "    predicted_stock_price = regressor.predict(X_test)\n",
    "    predicted_stock_price = sc.inverse_transform(predicted_stock_price)\n",
    "    predicted_stock_price=pd.DataFrame(predicted_stock_price)\n",
    "\n",
    "    dates_data = pd.read_csv('SPY_data_to57.csv',usecols=[\"date\"])\n",
    "    #print(dates_data.columns.values)\n",
    "    x = dates_data['date'][5349:5356]\n",
    "    plt.plot(x, y_test, color = 'red', label = 'Real SPY')\n",
    "    plt.plot(x, predicted_stock_price, color = 'blue', label = 'Predicted SPY')\n",
    "    plt.title(y_type + ' Stock Price Prediction 4/8 to 4/16')\n",
    "    plt.xlabel('Time')\n",
    "    plt.ylabel('Stock Price')\n",
    "    plt.xticks(rotation='vertical')\n",
    "    plt.legend()\n",
    "    plt.show()\n",
    "    testScore = math.sqrt(mean_squared_error(y_test, predicted_stock_price))\n",
    "    print(y_type + ' 4/8 to 4/16 Test Score: %.2f RMSE' % (testScore))"
   ]
  },
  {
   "cell_type": "code",
   "execution_count": 19,
   "metadata": {},
   "outputs": [],
   "source": [
    "\"\"\"\n",
    "We will fill in 5/8 to 5/14 in SPY_58_to_now.csv. Right now this has dummy values for those days but once the actual values \n",
    "come out we'll fill them in. The notebook will predict values from 5/8 to 5/14. It can also predict just 1 value by taking a \n",
    "subset of these predictions.  It can also predict 5/15 or another future day by changing one line of code  \n",
    "(see the comment in get_X_test_58_to_now). \n",
    "\"\"\"\n",
    "dataset_test = pd.read_csv('SPY_58_to_now.csv',index_col=\"date\",parse_dates=True)\n",
    "dataset_test = dataset_test.dropna(axis=0, how='all')  #get rid of rows with NaN\n",
    "\n",
    "def get_X_test_417(col_name, dataset, dataset_test, sws, k):\n",
    "    real_stock_price = dataset_test.iloc[:, k:k+1].values\n",
    "    dataset_total = pd.concat((dataset[col_name], dataset_test[col_name]), axis = 0)\n",
    "    inputs = dataset_total[len(dataset_total) - len(dataset_test) - sws:].values\n",
    "    inputs = inputs.reshape(-1,1)\n",
    "    inputs = sc.transform(inputs)\n",
    "    X_test_417 = []\n",
    "    for i in range(sws, sws+len(dataset_test)):\n",
    "        X_test_417.append(inputs[i-sws:i, 0])\n",
    "    #X_test\n",
    "    X_test_417 = np.array(X_test_417)\n",
    "    #X_test_417.shape\n",
    "    X_test_417 = np.reshape(X_test_417, (X_test_417.shape[0], X_test_417.shape[1], 1))\n",
    "    #X_test_417.shape\n",
    "    return X_test_417, real_stock_price"
   ]
  },
  {
   "cell_type": "code",
   "execution_count": 20,
   "metadata": {},
   "outputs": [],
   "source": [
    "def plot_preds_417(regressor, X_test, real_stock_price, y_type):\n",
    "    predicted_stock_price = regressor.predict(X_test)\n",
    "    predicted_stock_price = sc.inverse_transform(predicted_stock_price)\n",
    "    predicted_stock_price=pd.DataFrame(predicted_stock_price)\n",
    "    #predicted_stock_price.info()\n",
    "    plt.plot(real_stock_price, color = 'red', label = 'Real SPY')\n",
    "    plt.plot(predicted_stock_price, color = 'blue', label = 'Predicted SPY')\n",
    "    plt.title(y_type + ' Stock Price Prediction 4/17 - 5/3')\n",
    "    plt.xlabel('Time')\n",
    "    plt.ylabel('Stock Price')\n",
    "    plt.legend()\n",
    "    plt.show()\n",
    "    testScore = math.sqrt(mean_squared_error(real_stock_price, predicted_stock_price))\n",
    "    print(y_type + ' 4/17 - 5/3 Test Score: %.2f RMSE' % (testScore))"
   ]
  },
  {
   "cell_type": "code",
   "execution_count": 21,
   "metadata": {},
   "outputs": [],
   "source": [
    "def get_X_test_58_to_now(col_name, dataset, dataset_test, sws, k):\n",
    "#     training_set=dataset[col_name]\n",
    "#     training_set=pd.DataFrame(training_set)\n",
    "#     training_set_scaled = sc.fit_transform(training_set)\n",
    "    \n",
    "    real_stock_price = dataset_test.iloc[:, k:k+1].values\n",
    "    dataset_total = pd.concat((dataset[col_name], dataset_test[col_name]), axis = 0)\n",
    "    inputs = dataset_total[len(dataset_total) - len(dataset_test) - sws:].values  #sws + len(dataset_test) values\n",
    "    inputs = inputs.reshape(-1,1)\n",
    "    inputs = sc.transform(inputs)\n",
    "    X_test = []\n",
    "    for i in range(sws, sws+len(dataset_test)):  #+15 is 4/17 to 5/8. use sws+len(dataset_test)+1 if want 5/15 (not in csv)\n",
    "        X_test.append(inputs[i-sws:i, 0])\n",
    "    X_test = np.array(X_test)\n",
    "    X_test = np.reshape(X_test, (X_test.shape[0], X_test.shape[1], 1))\n",
    "    return X_test, real_stock_price"
   ]
  },
  {
   "cell_type": "code",
   "execution_count": 22,
   "metadata": {},
   "outputs": [],
   "source": [
    "def predict_58_to_now(regressor, X_test, real_stock_price, y_type, col_name):\n",
    "#     training_set=dataset[col_name]\n",
    "#     training_set=pd.DataFrame(training_set)\n",
    "#     training_set_scaled = sc.fit_transform(training_set)\n",
    "    \n",
    "    predicted_stock_price = regressor.predict(X_test)\n",
    "    predicted_stock_price = sc.inverse_transform(predicted_stock_price)\n",
    "    predicted_stock_price=pd.DataFrame(predicted_stock_price)\n",
    "    #testScore = math.sqrt(mean_squared_error(real_stock_price[14:], predicted_stock_price))\n",
    "    \n",
    "    base = datetime.datetime.strptime('May 8 2019', '%b %d %Y')\n",
    "    date_list = [base + datetime.timedelta(days=x) for x in range(0, 5)]\n",
    "    date_dict = {i:date.date() for i, date in enumerate(date_list)}\n",
    "    \n",
    "#     plt.plot(date_list, real_stock_price[14:], color = 'red', label = 'Real SPY')\n",
    "#     plt.plot(date_list, predicted_stock_price, color = 'blue', label = 'Predicted SPY')\n",
    "#     plt.title(y_type + ' Stock Price Prediction 5/8 - 5/12')\n",
    "#     plt.xticks(rotation='vertical')\n",
    "#     plt.ylabel('Stock Price')\n",
    "#     plt.legend()\n",
    "    \n",
    "#     predicted_stock_price.columns = ['Predictions']\n",
    "#     predicted_stock_price.rename(index=date_dict, inplace=True)\n",
    "#     predicted_stock_price['Actual'] = real_stock_price[14:]\n",
    "    \n",
    "    print(predicted_stock_price)\n",
    "#     plt.show()\n",
    "#     print(y_type + ' 5/8 - 5/122 Test Score: %.2f RMSE' % (testScore))\n",
    "    return predicted_stock_price"
   ]
  },
  {
   "cell_type": "code",
   "execution_count": 23,
   "metadata": {},
   "outputs": [],
   "source": [
    "def predict_next(col_name, dataset, regressor):\n",
    "    dataset = pd.read_csv('SPY_data.csv',index_col=\"date\",parse_dates=True)\n",
    "    dataset = dataset.dropna(axis=0, how='all')  #get rid of rows with NaN\n",
    "    inputs = dataset[col_name].values.reshape(-1,1)\n",
    "    inputs = sc.transform(inputs)\n",
    "    X_test = []\n",
    "    X_test.append(inputs[len(dataset)-sws:len(dataset)+1, 0])\n",
    "    X_test = np.array(X_test)\n",
    "    X_test = np.reshape(X_test, (X_test.shape[0], X_test.shape[1], 1))\n",
    "    predicted_stock_price = regressor.predict(X_test)\n",
    "    predicted_stock_price = sc.inverse_transform(predicted_stock_price)\n",
    "    predicted_stock_price = pd.DataFrame(predicted_stock_price)\n",
    "    print(\"%.2f\" % predicted_stock_price[0])\n",
    "    return predicted_stock_price"
   ]
  },
  {
   "cell_type": "code",
   "execution_count": 15,
   "metadata": {},
   "outputs": [],
   "source": [
    "###### OPEN ######\n",
    "sws = 100\n",
    "X_train_open, y_train_open = get_train_sets('1. open', sws)\n",
    "\n",
    "#regressor_open, history = train_model('SPY_LSTM_4000_5348_sws100_open', X_train_open, y_train_open)\n",
    "regressor_open = load_model('SPY_LSTM_4000_5348_sws100_open.h5')"
   ]
  },
  {
   "cell_type": "code",
   "execution_count": 18,
   "metadata": {},
   "outputs": [],
   "source": [
    "regressor = Sequential()\n",
    "regressor.add(LSTM(units = 50, return_sequences = True, input_shape = (X_train_open.shape[1], 1)))\n",
    "regressor.add(LSTM(units = 50, return_sequences = True))\n",
    "regressor.add(LSTM(units = 50, return_sequences = True))\n",
    "regressor.add(LSTM(units = 50))\n",
    "regressor.add(Dense(units = 1))\n",
    "regressor.compile(optimizer = 'adam', loss = 'mean_squared_error', metrics=['accuracy'])\n",
    "regressor.summary()"
   ]
  },
  {
   "cell_type": "code",
   "execution_count": 25,
   "metadata": {},
   "outputs": [],
   "source": [
    "# #history = pickle.load(open(\"SPY_LSTM_4000_5348_sws100_open\", \"rb\" ))\n",
    "# #plot_results(history)\n",
    "\n",
    "# X_test_all, y_test_all = get_X_test_all('1. open', dataset, sws)\n",
    "# plot_preds_all(regressor_open, X_test_all, y_test_all, \"Open\")\n",
    "\n",
    "# X_test_48, y_test_48 = get_X_test_48('1. open', dataset, sws)\n",
    "# plot_preds_48(regressor_open, X_test_48, y_test_48, \"Open\")\n",
    "\n",
    "# X_test_417, real_stock_price = get_X_test_417('1. open', dataset, dataset_test, sws, 0)\n",
    "# plot_preds_417(regressor_open, X_test_417, real_stock_price, \"Open\")"
   ]
  },
  {
   "cell_type": "code",
   "execution_count": 26,
   "metadata": {},
   "outputs": [],
   "source": [
    "# X_test_nextday, real_stock_price = get_X_test_58_to_now('1. open', dataset, dataset_test, sws, 0)\n",
    "# open_preds = predict_58_to_now(regressor_open, X_test_nextday, real_stock_price, \"Open\", '1. open')"
   ]
  },
  {
   "cell_type": "code",
   "execution_count": 27,
   "metadata": {},
   "outputs": [
    {
     "name": "stdout",
     "output_type": "stream",
     "text": [
      "288.27\n"
     ]
    }
   ],
   "source": [
    "open_preds = predict_next('1. open', dataset, regressor_open)"
   ]
  },
  {
   "cell_type": "code",
   "execution_count": 28,
   "metadata": {},
   "outputs": [],
   "source": [
    "###### HIGH ######\n",
    "sws = 100\n",
    "X_train_high, y_train_high = get_train_sets('2. high', sws)\n",
    "\n",
    "#regressor_high, history = train_model('SPY_LSTM_4000_5348_sws100_high', X_train_high, y_train_high)\n",
    "regressor_high = load_model('SPY_LSTM_4000_5348_sws100_high.h5')"
   ]
  },
  {
   "cell_type": "code",
   "execution_count": 29,
   "metadata": {},
   "outputs": [],
   "source": [
    "# #history = pickle.load(open(\"SPY_LSTM_4000_5348_sws100_open\", \"rb\" ))\n",
    "# #plot_results(history)\n",
    "\n",
    "# X_test_all, y_test_all = get_X_test_all('2. high', dataset, sws)\n",
    "# plot_preds_all(regressor_high, X_test_all, y_test_all, \"High\")\n",
    "\n",
    "# X_test_48, y_test_48 = get_X_test_48('2. high', dataset, sws)\n",
    "# plot_preds_48(regressor_high, X_test_48, y_test_48, \"High\")\n",
    "\n",
    "# X_test_417, real_stock_price = get_X_test_417('2. high', dataset, dataset_test, sws, 1)\n",
    "# plot_preds_417(regressor_high, X_test_417, real_stock_price, \"High\")"
   ]
  },
  {
   "cell_type": "code",
   "execution_count": 30,
   "metadata": {},
   "outputs": [],
   "source": [
    "# X_test_nextday, real_stock_price = get_X_test_58_to_now('2. high', dataset, dataset_test, sws, 1)\n",
    "# high_preds = predict_58_to_now(regressor_high, X_test_nextday, real_stock_price, \"High\", '2. high')"
   ]
  },
  {
   "cell_type": "code",
   "execution_count": 31,
   "metadata": {},
   "outputs": [
    {
     "name": "stdout",
     "output_type": "stream",
     "text": [
      "287.37\n"
     ]
    }
   ],
   "source": [
    "high_preds = predict_next('2. high', dataset, regressor_high)"
   ]
  },
  {
   "cell_type": "code",
   "execution_count": 32,
   "metadata": {},
   "outputs": [],
   "source": [
    "###### LOW ######\n",
    "sws = 150\n",
    "X_train_low, y_train_low = get_train_sets('3. low', sws)\n",
    "\n",
    "#regressor_low, history = train_model('SPY_LSTM_4000_5348_sws150_low', X_train_low, y_train_low)\n",
    "regressor_low = load_model('SPY_LSTM_4000_5348_sws150_low.h5')"
   ]
  },
  {
   "cell_type": "code",
   "execution_count": 33,
   "metadata": {},
   "outputs": [],
   "source": [
    "# #history = pickle.load(open(\"SPY_LSTM_4000_5348_sws150_low\", \"rb\" ))\n",
    "# #plot_results(history)\n",
    "\n",
    "# X_test_all, y_test_all = get_X_test_all('3. low', dataset, sws)\n",
    "# plot_preds_all(regressor_low, X_test_all, y_test_all, \"Low\")\n",
    "\n",
    "# X_test_48, y_test_48 = get_X_test_48('3. low', dataset, sws)\n",
    "# plot_preds_48(regressor_low, X_test_48, y_test_48, \"Low\")\n",
    "\n",
    "# X_test_417, real_stock_price = get_X_test_417('3. low', dataset, dataset_test, sws, 2)\n",
    "# plot_preds_417(regressor_low, X_test_417, real_stock_price, \"Low\")"
   ]
  },
  {
   "cell_type": "code",
   "execution_count": 34,
   "metadata": {},
   "outputs": [],
   "source": [
    "# X_test_nextday, real_stock_price = get_X_test_58_to_now('3. low', dataset, dataset_test, sws, 2)\n",
    "# low_preds = predict_58_to_now(regressor_low, X_test_nextday, real_stock_price, \"Low\", '3. low')"
   ]
  },
  {
   "cell_type": "code",
   "execution_count": 35,
   "metadata": {},
   "outputs": [
    {
     "name": "stdout",
     "output_type": "stream",
     "text": [
      "279.74\n"
     ]
    }
   ],
   "source": [
    "low_preds = predict_next('3. low', dataset, regressor_low)"
   ]
  },
  {
   "cell_type": "code",
   "execution_count": 36,
   "metadata": {},
   "outputs": [],
   "source": [
    "###### CLOSE ######\n",
    "sws = 150\n",
    "X_train_close, y_train_close = get_train_sets('4. close', sws)\n",
    "\n",
    "#regressor_close, history = train_model('SPY_LSTM_4000_5348_sws150_close', X_train_close, y_train_close)\n",
    "regressor_close = load_model('SPY_LSTM_4000_5348_sws150_close.h5')"
   ]
  },
  {
   "cell_type": "code",
   "execution_count": 37,
   "metadata": {},
   "outputs": [],
   "source": [
    "# #history = pickle.load(open(\"SPY_LSTM_4000_5348_sws150_close\", \"rb\" ))\n",
    "# #plot_results(history)\n",
    "\n",
    "# X_test_all, y_test_all = get_X_test_all('4. close', dataset, sws)\n",
    "# plot_preds_all(regressor_close, X_test_all, y_test_all, \"Close\")\n",
    "\n",
    "# X_test_48, y_test_48 = get_X_test_48('4. close', dataset, sws)\n",
    "# plot_preds_48(regressor_close, X_test_48, y_test_48, \"Close\")\n",
    "\n",
    "# X_test_417, real_stock_price = get_X_test_417('4. close', dataset, dataset_test, sws, 3)\n",
    "# plot_preds_417(regressor_close, X_test_417, real_stock_price, \"Close\")"
   ]
  },
  {
   "cell_type": "code",
   "execution_count": 38,
   "metadata": {},
   "outputs": [],
   "source": [
    "# X_test_nextday, real_stock_price = get_X_test_58_to_now('4. close', dataset, dataset_test, sws, 3)\n",
    "# close_preds = predict_58_to_now(regressor_close, X_test_nextday, real_stock_price, \"Close\", '4. close')"
   ]
  },
  {
   "cell_type": "code",
   "execution_count": 39,
   "metadata": {},
   "outputs": [
    {
     "name": "stdout",
     "output_type": "stream",
     "text": [
      "289.20\n"
     ]
    }
   ],
   "source": [
    "close_preds = predict_next('4. close', dataset, regressor_close)"
   ]
  },
  {
   "cell_type": "code",
   "execution_count": 40,
   "metadata": {},
   "outputs": [],
   "source": [
    "###### VOL ######\n",
    "sws = 150\n",
    "#X_train_vol, y_train_vol = get_train_sets('5. volume', sws)\n",
    "\n",
    "#regressor_vol, history = train_model('SPY_LSTM_4000_5348_sws150_vol', X_train_vol, y_train_vol)\n",
    "regressor_vol = load_model('SPY_LSTM_4000_5348_sws150_vol.h5')"
   ]
  },
  {
   "cell_type": "code",
   "execution_count": 41,
   "metadata": {},
   "outputs": [],
   "source": [
    "# #history = pickle.load(open(\"SPY_LSTM_4000_5348_sws150_vol\", \"rb\" ))\n",
    "# #plot_results(history)\n",
    "\n",
    "# X_test_all, y_test_all = get_X_test_all('5. volume', dataset, sws)\n",
    "# plot_preds_all(regressor_vol, X_test_all, y_test_all, \"Vol\")\n",
    "\n",
    "# X_test_48, y_test_48 = get_X_test_48('5. volume', dataset, sws)\n",
    "# plot_preds_48(regressor_vol, X_test_48, y_test_48, \"Vol\")\n",
    "\n",
    "# X_test_417, real_stock_price = get_X_test_417('5. volume', dataset, dataset_test, sws, 4)\n",
    "# plot_preds_417(regressor_vol, X_test_417, real_stock_price, \"Vol\")"
   ]
  },
  {
   "cell_type": "code",
   "execution_count": 42,
   "metadata": {},
   "outputs": [],
   "source": [
    "# X_test_nextday, real_stock_price = get_X_test_58_to_now('5. volume', dataset, dataset_test, sws, 4)\n",
    "# predict_58_to_now(regressor_vol, X_test_nextday, real_stock_price, \"Vol\")"
   ]
  },
  {
   "cell_type": "code",
   "execution_count": 43,
   "metadata": {},
   "outputs": [],
   "source": [
    "print(\"%.2f\" % open_preds[0])\n",
    "print(\"%.2f\" % close_preds[0])\n",
    "print(\"%.2f\" % high_preds[0])\n",
    "print(\"%.2f\" % low_preds[0])"
   ]
  },
  {
   "cell_type": "code",
   "execution_count": 44,
   "metadata": {},
   "outputs": [],
   "source": [
    "# IT BARELY MADE A DIFFERENCE when used 4/17 to 5/7 duplicate data in predictions, nor did it make a difference to fit\n",
    "# sc transform on another column. What DID make a difference was using windows 150 vs 100 for low and close.\n",
    "# sws 100 was actually better for everything!"
   ]
  }
 ],
 "metadata": {
  "kernelspec": {
   "display_name": "Python 3",
   "language": "python",
   "name": "python3"
  },
  "language_info": {
   "codemirror_mode": {
    "name": "ipython",
    "version": 3
   },
   "file_extension": ".py",
   "mimetype": "text/x-python",
   "name": "python",
   "nbconvert_exporter": "python",
   "pygments_lexer": "ipython3",
   "version": "3.6.5"
  }
 },
 "nbformat": 4,
 "nbformat_minor": 2
}
